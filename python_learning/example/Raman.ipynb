{
 "cells": [
  {
   "cell_type": "code",
   "execution_count": 2,
   "id": "b692187e",
   "metadata": {},
   "outputs": [],
   "source": [
    "import numpy as np\n",
    "import matplotlib.pyplot as plt\n",
    "import matplotlib as mpl\n",
    "# import matplotlib.colors as colors\n",
    "from math import *\n",
    "import cmath\n",
    "from scipy.linalg import expm\n",
    "\n",
    "# 对角化用 eigenvals, eigenvecs = np.linalg.eig(A) 看一下给出的是两个行向量吗\n",
    "# Kronecker积用 np.kron()\n",
    "# math库中的函数直接用\n",
    "# cmath 包含支持复数的开方、对数运算，还有常数pi, e等\n",
    "# 使用时用cmath.函数名，例：cmath.exp()，总是返回一个复数\n",
    "# e的矩阵指数，可以导入expm()后使用"
   ]
  },
  {
   "cell_type": "code",
   "execution_count": 3,
   "id": "ec78dddf",
   "metadata": {},
   "outputs": [],
   "source": [
    "def fibonacci(n):\n",
    "    if not(type(n) == int) or n < 0:\n",
    "        return\n",
    "    if n == 0 or n == 1:\n",
    "        return 1\n",
    "    else:\n",
    "        f = fibonacci(n-1) + fibonacci(n-2)\n",
    "        return f\n",
    "# F14 = 610\n",
    "\n",
    "def Ham_Raman_real(L, tso, Mz, beta, t0=1, phi=1):\n",
    "    \"\"\"\n",
    "    创建实空间哈密顿量\n",
    "    L 系统尺寸\n",
    "    t0 自旋不变跃迁强度\n",
    "    tso 自旋翻转跃迁强度\n",
    "    Mz 准周期势幅值\n",
    "    beta 准周期参数，一般取无理数\n",
    "\n",
    "    编写哈密顿量时c_dagger的指标对应行\n",
    "    \"\"\"\n",
    "    Ham = np.zeros((2 * L, 2 * L))\n",
    "    for i in range(L - 1):\n",
    "        Ham[2 * i + 2, 2 * i] = t0  # 0, 2, 4, ... down\n",
    "        Ham[2 * i + 3, 2 * i + 1] = - t0  # 1, 3, 5, ... up\n",
    "        Ham[2 * i + 1, 2 * i + 2] = tso\n",
    "        Ham[2 * i + 3, 2 * i] = - tso\n",
    "    Ham[0, 2 * (L - 1)] = t0  # PBC条件\n",
    "    Ham[1, 2 * (L - 1) + 1] = - t0\n",
    "    Ham[2 * (L - 1) + 1, 0] = tso\n",
    "    Ham[1, 2 * (L - 1)] = - tso\n",
    "    Ham += Ham.conj().T  # 加上H.c.\n",
    "    for i in range(L):  # 准周期势\n",
    "        Ham[2 * i, 2 * i] = - Mz * cos(2 * pi * beta * (i + 1) + phi)  # 下标从0开始，但是格点从1开始，所以i + 1\n",
    "        Ham[2 * i + 1, 2 * i + 1] = Mz * cos(2 * pi * beta * (i + 1) + phi)\n",
    "    return Ham\n"
   ]
  },
  {
   "cell_type": "code",
   "execution_count": 4,
   "id": "2445a0ab",
   "metadata": {},
   "outputs": [],
   "source": [
    "L = fibonacci(14)\n",
    "BETA = fibonacci(13) / fibonacci(14)\n",
    "\n",
    "TSO_LIST = np.linspace(0, 2, 32)\n",
    "MZ_LIST = np.linspace(0, 6, 32)\n"
   ]
  },
  {
   "cell_type": "code",
   "execution_count": 4,
   "id": "7fa84b6a",
   "metadata": {},
   "outputs": [],
   "source": [
    "mFD = np.zeros((TSO_LIST.shape[0], MZ_LIST.shape[0]))\n"
   ]
  },
  {
   "cell_type": "code",
   "execution_count": 15,
   "id": "5e0cfae4",
   "metadata": {},
   "outputs": [],
   "source": [
    "# help(plt.pcolormesh)"
   ]
  },
  {
   "cell_type": "code",
   "execution_count": null,
   "id": "63a4f46d",
   "metadata": {},
   "outputs": [],
   "source": [
    "i = 0\n",
    "for Mz in MZ_LIST:\n",
    "    j = 0\n",
    "    for tso in TSO_LIST:\n",
    "        Ham = Ham_Raman_real(L, tso, Mz, BETA)\n",
    "        Energy, VecR = np.linalg.eig(Ham)\n",
    "        VecR = np.abs(VecR) ** 4\n",
    "        sIPR = np.sum(VecR, axis=0)\n",
    "        mIPR = np.sum(sIPR) / (2 * L)\n",
    "        mFD[i, j] = - log(mIPR) / log(L)\n",
    "        j += 1\n",
    "    i += 1\n"
   ]
  },
  {
   "cell_type": "code",
   "execution_count": null,
   "id": "3945f77d",
   "metadata": {},
   "outputs": [],
   "source": [
    "np.savez('mean_FD.npz', mFD=mFD)  # .npz是numpy提供的存储数据的文件格式，保存覆盖原文件"
   ]
  },
  {
   "cell_type": "code",
   "execution_count": 17,
   "id": "2df3e885",
   "metadata": {},
   "outputs": [],
   "source": [
    "with np.load('mean_FD.npz', 'r') as data:  # 用with ... as ... 打开文件，就不用手动关闭文件了，查阅context manager protocol\n",
    "    mFD = data['mFD']"
   ]
  },
  {
   "cell_type": "code",
   "execution_count": 18,
   "id": "18307e1d",
   "metadata": {},
   "outputs": [
    {
     "data": {
      "image/png": "[encoded data removed]",
      "text/plain": [
       "<Figure size 640x480 with 2 Axes>"
      ]
     },
     "metadata": {},
     "output_type": "display_data"
    }
   ],
   "source": [
    "fig, ax = plt.subplots()\n",
    "\n",
    "cmap = mpl.cm.jet\n",
    "# norm = mpl.colors.Normalize(vmin=5, vmax=10)\n",
    "im = ax.pcolormesh(TSO_LIST, MZ_LIST, mFD, cmap=cmap)\n",
    "ax.set_xlabel(\"$t_{so}$\")  # Add an x-label to the Axes.\n",
    "ax.set_ylabel(\"$M_z$\")  # Add a y-label to the Axes.\n",
    "ax.set_title(\"mean FD\")\n",
    "fig.colorbar(im, ax=ax, label=\"$\\\\bar{\\\\eta}$\")\n",
    "plt.show()"
   ]
  },
  {
   "cell_type": "code",
   "execution_count": null,
   "id": "9e8921a8",
   "metadata": {},
   "outputs": [],
   "source": []
  }
 ],
 "metadata": {
  "kernelspec": {
   "display_name": "base",
   "language": "python",
   "name": "python3"
  },
  "language_info": {
   "codemirror_mode": {
    "name": "ipython",
    "version": 3
   },
   "file_extension": ".py",
   "mimetype": "text/x-python",
   "name": "python",
   "nbconvert_exporter": "python",
   "pygments_lexer": "ipython3",
   "version": "3.13.5"
  }
 },
 "nbformat": 4,
 "nbformat_minor": 5
}
