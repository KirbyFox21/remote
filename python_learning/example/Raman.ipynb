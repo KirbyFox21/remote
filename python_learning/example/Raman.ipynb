{
 "cells": [
  {
   "cell_type": "code",
   "execution_count": null,
   "id": "b692187e",
   "metadata": {},
   "outputs": [],
   "source": [
    "import numpy as np\n",
    "import matplotlib.pyplot as plt\n",
    "from cmath import *\n",
    "from scipy.linalg import expm\n",
    "\n",
    "# 对角化用 eigenvals, eigenvecs = np.linalg.eig(A) 看一下给出的是两个行向量吗\n",
    "# Kronecker积用 np.kron()\n",
    "# cmath 包含支持复数的开方、对数运算，还有常数pi, e等\n",
    "# e的矩阵指数，可以导入expm()后使用"
   ]
  },
  {
   "cell_type": "code",
   "execution_count": null,
   "id": "ec78dddf",
   "metadata": {},
   "outputs": [
    {
     "name": "stdout",
     "output_type": "stream",
     "text": [
      "610\n"
     ]
    }
   ],
   "source": [
    "def fibonacci(n):\n",
    "    if not(type(n) == int) or n < 0:\n",
    "        return\n",
    "    if n == 0 or n == 1:\n",
    "        return 1\n",
    "    else:\n",
    "        f = fibonacci(n-1) + fibonacci(n-2)\n",
    "        return f\n",
    "# F14 = 610\n",
    "\n",
    "def Ham_Raman_real(L, tso, Mz, beta, t0 = 1, phi = 1):\n",
    "    Ham = np.zeros((2*L, 2*L))\n",
    "    \n",
    "\n"
   ]
  },
  {
   "cell_type": "code",
   "execution_count": null,
   "id": "2445a0ab",
   "metadata": {},
   "outputs": [],
   "source": []
  }
 ],
 "metadata": {
  "kernelspec": {
   "display_name": "base",
   "language": "python",
   "name": "python3"
  },
  "language_info": {
   "codemirror_mode": {
    "name": "ipython",
    "version": 3
   },
   "file_extension": ".py",
   "mimetype": "text/x-python",
   "name": "python",
   "nbconvert_exporter": "python",
   "pygments_lexer": "ipython3",
   "version": "3.13.5"
  }
 },
 "nbformat": 4,
 "nbformat_minor": 5
}
