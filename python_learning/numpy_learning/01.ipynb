{
 "cells": [
  {
   "cell_type": "code",
   "execution_count": 11,
   "id": "1983d7c3",
   "metadata": {},
   "outputs": [],
   "source": [
    "import numpy as np # 导入numpy库，并给定别名\n"
   ]
  },
  {
   "cell_type": "code",
   "execution_count": null,
   "id": "3ca35d5b",
   "metadata": {},
   "outputs": [
    {
     "name": "stdout",
     "output_type": "stream",
     "text": [
      "直接初始化\n",
      "[1 2 3]\n",
      "[[1 0 0]\n",
      " [0 1 0]\n",
      " [0 0 1]]\n",
      "\n",
      " 特殊初始化\n",
      "[[0. 0.]\n",
      " [0. 0.]\n",
      " [0. 0.]]\n",
      "(3, 2)\n",
      "[[1. 1. 1.]\n",
      " [1. 1. 1.]]\n",
      "\n",
      " 序列\n",
      "[1 3 5 7]\n",
      "[ 0.  2.  4.  6.  8. 10.]\n"
     ]
    }
   ],
   "source": [
    "# 数组对象 np.array()\n",
    "\n",
    "# 初始化\n",
    "\n",
    "# 直接初始化\n",
    "# 每个维度对应一层中括号\n",
    "a = np.array([1, 2, 3])\n",
    "b = np.array([[1, 0, 0], [0, 1, 0], [0, 0, 1]])\n",
    "print(\"直接初始化\")\n",
    "print(a)\n",
    "print(b)\n",
    "\n",
    "# 特殊初始化\n",
    "# 数据默认为64位float\n",
    "a = np.zeros((3, 2)) # 参数为尺寸，(行, 列)\n",
    "b = np.ones((2, 3))\n",
    "print(\"\\n 特殊初始化\")\n",
    "print(a)\n",
    "print(a.shape) # 给出数组尺寸\n",
    "# len() 给出数组第一层的大小，如[[...], [...]]会输出2，对于矩阵这就是行数\n",
    "print(b)\n",
    "\n",
    "# 序列\n",
    "a = np.arange(1, 9, 2) # 类似range，参数为开始、结尾和步长（不写默认1，可以为负数），也是包前不包后，参数必须为整数\n",
    "b = np.linspace(0, 10, 6) # 类似MATLAB的同名函数，在开始和结尾之间等距取值\n",
    "print(\"\\n 序列\")\n",
    "print(a)\n",
    "print(b)\n"
   ]
  },
  {
   "cell_type": "code",
   "execution_count": 13,
   "id": "b938f605",
   "metadata": {},
   "outputs": [
    {
     "name": "stdout",
     "output_type": "stream",
     "text": [
      "5j\n",
      "[[0.21153592 0.60020963]\n",
      " [0.62851233 1.08370194]]\n"
     ]
    }
   ],
   "source": [
    "# 运算\n",
    "\n",
    "# 同尺寸数组可以按元素进行四则运算 + - * /\n",
    "# 可以同一个数进行四则运算，相当于把每个元素都与这个数做运算\n",
    "# np.sqrt(), np.sin(), np.cos(), np.log(), np.power(数组, 幂次) 等函数也是按元素的\n",
    "\n",
    "# 向量标量积 np.dot(a, b) # 不会自动取复共轭\n",
    "a = np.array([1j, 2j])\n",
    "b = np.array([1, 2])\n",
    "print(np.dot(a, b))\n",
    "\n",
    "# 矩阵乘法 a @ b\n",
    "a = np.random.rand(2, 3)\n",
    "b = np.random.rand(3, 2)\n",
    "print(a @ b)\n"
   ]
  },
  {
   "cell_type": "code",
   "execution_count": 14,
   "id": "e8ddaa0d",
   "metadata": {},
   "outputs": [
    {
     "name": "stdout",
     "output_type": "stream",
     "text": [
      "6\n",
      "[3 8]\n",
      "[1 6]\n",
      "[5 4 3 2 1]\n",
      "[ 3  4  5  6  7  8  9 10]\n",
      "[ 4  6  8 10]\n",
      "[ 1  2  3 90  5  6]\n",
      "[1, 2, 3, 4, 5, 6]\n"
     ]
    }
   ],
   "source": [
    "# 索引\n",
    "\n",
    "# 直接索引\n",
    "# 下标从0开始\n",
    "a = np.array([[1, 2, 3, 4, 5], [6, 7, 8, 9, 10]])\n",
    "print(a[1, 0])\n",
    "print(a[0:2, 2]) # 注意切片也是包前不包后，而且切片给出一维数组时不区分行列\n",
    "print(a[:, 0]) # 类似MATLAB的冒号\n",
    "# 冒号后还可以加一个冒号，给出跨度\n",
    "print(a[0, ::-1]) # 这相当于给出第一行的降序排列\n",
    "\n",
    "# 条件索引\n",
    "print(a[a >= 3])\n",
    "# 多个条件用 & 和 | 表示与和或，而不是python的and和or\n",
    "print(a[(a >= 3) & (a % 2 == 0)])\n",
    "\n",
    "# 注意：列表的切片是新的数据，但是数组的切片仍然是这一部分的内存地址\n",
    "x0 = np.array([1, 2, 3, 4, 5, 6])\n",
    "x1 = x0[3:6]\n",
    "x1[0] = 90\n",
    "print(x0)\n",
    "\n",
    "y0 = [1, 2, 3, 4, 5, 6]\n",
    "y1 = y0[3:6]\n",
    "y1[0] = 90\n",
    "print(y0)"
   ]
  },
  {
   "cell_type": "code",
   "execution_count": 15,
   "id": "24bb6b55",
   "metadata": {},
   "outputs": [
    {
     "name": "stdout",
     "output_type": "stream",
     "text": [
      "1\n",
      "10\n",
      "0\n",
      "9\n",
      "5.5\n",
      "2.8722813232690143\n",
      "55\n",
      "[ 7  9 11 13 15]\n"
     ]
    }
   ],
   "source": [
    "# 操作\n",
    "a = np.array([[1, 2, 3, 4, 5], [6, 7, 8, 9, 10]])\n",
    "print(a.min())\n",
    "print(a.max())\n",
    "print(a.argmin())\n",
    "print(a.argmax()) # 返回最大（最小）值的索引，从0开始\n",
    "print(a.mean())\n",
    "print(a.std()) # 标准差\n",
    "print(a.sum()) # 全部求和\n",
    "print(a.sum(axis = 0)) # 在对应维度的方向求和，0对应行，1对应列"
   ]
  },
  {
   "cell_type": "code",
   "execution_count": null,
   "id": "29c980bd",
   "metadata": {},
   "outputs": [],
   "source": []
  }
 ],
 "metadata": {
  "kernelspec": {
   "display_name": "base",
   "language": "python",
   "name": "python3"
  },
  "language_info": {
   "codemirror_mode": {
    "name": "ipython",
    "version": 3
   },
   "file_extension": ".py",
   "mimetype": "text/x-python",
   "name": "python",
   "nbconvert_exporter": "python",
   "pygments_lexer": "ipython3",
   "version": "3.13.5"
  }
 },
 "nbformat": 4,
 "nbformat_minor": 5
}
