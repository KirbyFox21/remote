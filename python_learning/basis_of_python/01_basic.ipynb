{
 "cells": [
  {
   "cell_type": "code",
   "execution_count": 1,
   "id": "915cc1e7",
   "metadata": {},
   "outputs": [],
   "source": [
    "# %reset -f\n",
    "# import matplotlib.pyplot as plt\n",
    "# plt.close(\"all\")\n",
    "# %clear"
   ]
  },
  {
   "cell_type": "code",
   "execution_count": 2,
   "id": "e3f878f4",
   "metadata": {},
   "outputs": [
    {
     "name": "stdout",
     "output_type": "stream",
     "text": [
      "1 2\n",
      "3.14 abc\n",
      "name\n"
     ]
    }
   ],
   "source": [
    "# 变量\n",
    "# 在同一行中赋多个值，用分号隔开\n",
    "# python中，变量允许赋数据类型不同的值\n",
    "a = 1; b = 2\n",
    "print(a,b)\n",
    "a = 3.14; b = \"abc\"\n",
    "print(a,b)\n",
    "\n",
    "# 标识符，即变量名，遵循通常的规则\n",
    "# 由英文字母、数字、下划线组成，其中数字不可以在开头\n",
    "# 标识符不可以是关键字，注意lambda也是python的关键字\n",
    "# 数据类型int, str等不是关键字，但也不要用\n",
    "# python中，标识符可以被整体放于圆括号中而不产生任何影响，相当于括号不存在\n",
    "(user) = \"name\"\n",
    "print(user)\n",
    "\n",
    "# 一般的命名规则：user_name, UserName, userName\n",
    "# 后两种在面向对象编程中会用到\n",
    "\n",
    "# 删除变量\n",
    "# del 变量名\n",
    "del a,b"
   ]
  },
  {
   "cell_type": "code",
   "execution_count": 1,
   "id": "66173130",
   "metadata": {},
   "outputs": [
    {
     "name": "stdout",
     "output_type": "stream",
     "text": [
      "<class 'int'>\n",
      "2\n",
      "<class 'complex'>\n",
      "(3+5j)\n",
      "(-1+0j)\n",
      "<class 'str'> <class 'str'>\n",
      "abc\n",
      "def\n",
      "ghi\n"
     ]
    },
    {
     "data": {
      "text/plain": [
       "' \\n顶格写的三引号是多行注释\\n不过在notebook里会把这一部分也输出\\n只是没有任何效果\\n如果后面还有非注释代码就不会输出这部分了\\n'"
      ]
     },
     "execution_count": 1,
     "metadata": {},
     "output_type": "execute_result"
    }
   ],
   "source": [
    "# 数据类型\n",
    "# type查看数据类型\n",
    "a = 3.14\n",
    "a = 1\n",
    "print(type(a))\n",
    "# 注意，第一次赋值a为float，后一次赋值为int，则a还会被认为是int\n",
    "\n",
    "# python中的数值类型有：int, float, bool, complex\n",
    "\n",
    "# bool\n",
    "# True和False，严格区分大小写，相当于1和0\n",
    "# print(true)，未大写，报错\n",
    "print(True + 1)\n",
    "\n",
    "# complex 复数\n",
    "# python中的复数形式为a+bj，虚数单位只可以用j\n",
    "c = 1+2j\n",
    "d = 2+3j\n",
    "print(type(c))\n",
    "print(c+d)\n",
    "# 为了与可能存在的变量j区分，表示虚数的j必须与数字连用，单个的虚数单位应该写为1j，这与MATLAB的习惯一致\n",
    "# print(j*j)会把j认为是变量，而目前没有定义j，于是报错\n",
    "print(1j*1j)\n",
    "\n",
    "# str 字符串\n",
    "# python不区分单引号和双引号\n",
    "# python没有char数据类型\n",
    "# 在一种引号括起来的字符串中用另一种引号，无需加转义字符\\\n",
    "# 这是因为引号配对的原则是从左到右和最近的同种引号配对\n",
    "# 习惯上双引号表示给人阅读的文本，单引号表示给计算机处理的文本\n",
    "s1 = \"abc\"; s2 = 'def'\n",
    "print(type(s1),type(s2))\n",
    "# 三个引号（单引号或双引号）可以表示分行的字符串，而不需额外添加换行符\n",
    "s3 = \"\"\"abc\n",
    "def\n",
    "ghi\"\"\"\n",
    "print(s3)\n",
    "\n",
    "\"\"\" \n",
    "顶格写的三引号是多行注释\n",
    "不过在notebook里会把这一部分也输出\n",
    "只是没有任何效果\n",
    "如果后面还有非注释代码就不会输出这部分了\n",
    "\"\"\"\n",
    "# 其他数据类型以后再说"
   ]
  },
  {
   "cell_type": "code",
   "execution_count": 4,
   "id": "779a88e3",
   "metadata": {},
   "outputs": [
    {
     "name": "stdout",
     "output_type": "stream",
     "text": [
      "0.30000000000000004\n"
     ]
    }
   ],
   "source": [
    "# 注意浮点数精度的问题\n",
    "# MATLAB呢，也有同样的问题吗\n",
    "print(0.1+0.2)\n",
    "# 高精度场景，可以用decimal模块缓解这一问题"
   ]
  },
  {
   "cell_type": "code",
   "execution_count": null,
   "id": "6a0faef5",
   "metadata": {},
   "outputs": [
    {
     "name": "stdout",
     "output_type": "stream",
     "text": [
      "abc def ghi\n",
      "abc|def|ghi\n",
      "abc def ghi11\n",
      "2\n",
      "3\n"
     ]
    }
   ],
   "source": [
    "# 基本输出用print\n",
    "# 多个值\n",
    "print(\"abc\",\"def\",\"ghi\")\n",
    "# sep参数控制多个值之间的分隔符，默认为空格，不需要分隔就用sep=\"\"\n",
    "print(\"abc\",\"def\",\"ghi\",sep=\"|\")\n",
    "# end参数控制这一组输出的结尾，默认为换行符\\n，不需要结尾就用end=\"\"\n",
    "print(\"abc\",\"def\",\"ghi\",end=\"1\")\n",
    "# print必须顶格写。多个print在同一行，必须用分号分隔\n",
    "i = 1; j = 2; k = 3\n",
    "print(i); print(j); print(k)\n",
    "\n",
    "# 注：规范为赋值的等号左右两边留空格，参数=值的等号两边不留空格（？）"
   ]
  },
  {
   "cell_type": "code",
   "execution_count": 6,
   "id": "5bb3bced",
   "metadata": {},
   "outputs": [
    {
     "name": "stdout",
     "output_type": "stream",
     "text": [
      "My name is Kirby. Nice to meet you! \n",
      "My name is Kirby. I'm 18 years old.\n",
      "   123\n",
      "123\n",
      "000123\n",
      "123.000000\n",
      "1.234568\n",
      "123.00\n",
      "1.2346\n",
      "前10%前20%\n"
     ]
    }
   ],
   "source": [
    "# 格式化输出\n",
    "# 占位符：用于生成一定格式的字符串\n",
    "# %s 格式化字符串\n",
    "# 相当于先在字符串中占位，在给出这个位置应该填入的内容\n",
    "name = \"Kirby\"\n",
    "print(\"My name is %s. Nice to meet you! \" % name)\n",
    "\n",
    "# %d 格式化整数\n",
    "# 一个字符串中存在多个占位符，需要用括号把需要填入的变量括起来\n",
    "# 要求括号中的变量的顺序和类型与占位符出现的顺序和类型一致\n",
    "age = 18\n",
    "print(\"My name is %s. I'm %d years old.\" % (name,age))\n",
    "# %6d 输出指定位数的整数\n",
    "# 若数值不足6位，前面补空格；若超出6位，按实际数值输出\n",
    "# d前的数字是什么都行，%4d, %12d\n",
    "a = 123\n",
    "print(\"%6d\" % a)\n",
    "print(\"%2d\" % a)\n",
    "# %06d 前面加了0，就是用0补空位\n",
    "print(\"%06d\" % a)\n",
    "\n",
    "# %f 格式化浮点数\n",
    "# 默认保留6位小数，如果输入的是int，就补6个0\n",
    "a = 123\n",
    "b = 1.23456789\n",
    "print(\"%f\" % a)\n",
    "print(\"%f\" % b)\n",
    "# %.4f 输出指定小数位数，四舍五入\n",
    "# 注意有个点\n",
    "print(\"%.2f\" % a)\n",
    "print(\"%.4f\" % b)\n",
    "\n",
    "# %% 输出百分号\n",
    "print(\"前10%%前20%%\" % ())\n",
    "# 不清楚为什么要这么做，因为直接写百分号也可以\n"
   ]
  },
  {
   "cell_type": "code",
   "execution_count": 7,
   "id": "bdb80b72",
   "metadata": {},
   "outputs": [
    {
     "name": "stdout",
     "output_type": "stream",
     "text": [
      "My name is Kirby. I'm 18 years old.\n"
     ]
    }
   ],
   "source": [
    "# f格式化\n",
    "# f\"...{}...\" {}中的内容会被识别为变量\n",
    "name = \"Kirby\"\n",
    "age = 18\n",
    "print(f\"My name is {name}. I'm {age} years old.\")"
   ]
  },
  {
   "cell_type": "code",
   "execution_count": 8,
   "id": "ce48b54c",
   "metadata": {},
   "outputs": [
    {
     "name": "stdout",
     "output_type": "stream",
     "text": [
      "2.0 <class 'float'>\n"
     ]
    }
   ],
   "source": [
    "# 运算符\n",
    "# 算术运算符\n",
    "# + - * /\n",
    "# 取整除法 // 取余数 % 幂 **\n",
    "# 算数运算符两侧只要有float类型，结果就是float\n",
    "a = 5.0; b = 2\n",
    "c = a // b\n",
    "print(c,type(c))\n",
    "\n",
    "# 赋值运算符\n",
    "# python中的赋值运算符包括 = 和所有算数运算符与等号的组合 += -= ...\n"
   ]
  },
  {
   "cell_type": "code",
   "execution_count": null,
   "id": "42b53604",
   "metadata": {},
   "outputs": [],
   "source": [
    "# 输入函数\n",
    "# input(prompt) 括号中是提示词\n",
    "# 输入会返回成字符串\n",
    "# vs code中jupyter notebook的input输入框在正上方\n",
    "# name = input(\"Name: \")\n",
    "# print(f\"Your name is {name}.\")"
   ]
  },
  {
   "cell_type": "code",
   "execution_count": 10,
   "id": "7e6b70b3",
   "metadata": {},
   "outputs": [
    {
     "name": "stdout",
     "output_type": "stream",
     "text": [
      "123\t567\n",
      "1234\t567\n",
      "456\n",
      "abc456\n",
      "abc\n",
      "abc\n",
      "2\n",
      "123\\t567\n"
     ]
    }
   ],
   "source": [
    "# 转义字符\n",
    "# 给出部分转义字符\n",
    "# \\t 横向制表符\n",
    "print(\"123\\t567\")\n",
    "print(\"1234\\t567\")\n",
    "# \\n 换行符\n",
    "# \\r 回车，光标回到此行开头\n",
    "print(\"123\\r456\")\n",
    "print(\"123456\\rabc\")\n",
    "# \\' \\\" \\\\ 单双引号和反斜杠\n",
    "# \\ 在行尾时，续行符，应该与MATLAB的...作用一致\n",
    "print\\\n",
    "    (\"abc\")\n",
    "print(\"ab\\\n",
    "c\") # 注意这里直接回车会自动缩进，产生的空格也会算到字符串里。还是最好不要打断一个整体\n",
    "print(1 + \\\n",
    "      1)\n",
    "# r\"...\"输出原始字符串，不会考虑其中的转义字符\n",
    "print(r\"123\\t567\")\n"
   ]
  },
  {
   "cell_type": "code",
   "execution_count": null,
   "id": "c042ccc9",
   "metadata": {},
   "outputs": [],
   "source": [
    "# from module import x, y\n",
    "# 等价于\n",
    "\n",
    "# import module\n",
    "# x = module.x\n",
    "# y = module.y\n",
    "# del module\n",
    "\n",
    "# 用from导入的对象引用时不需要加模块名前缀\n"
   ]
  },
  {
   "cell_type": "code",
   "execution_count": null,
   "id": "bb98b341",
   "metadata": {},
   "outputs": [],
   "source": [
    "# .py脚本结尾常常有这样一段代码：\n",
    "\n",
    "# if __name__ == '__main__':\n",
    "#     一些代码\n",
    "#     如 main()  # 如果前面有def main():的话\n",
    "\n",
    "# 直接运行xxx.py脚本时，__name__的值是'__main__'，而作为模块导入（import）到其他脚本中时，__name__的值是'xxx'\n",
    "# 所以这段代码的作用是：\n",
    "# 当该脚本直接运行时，执行if语句中的内容，可能是调试用的代码\n",
    "# 当该脚本作为模块导入其他程序中时，不执行这段内容，避免了意外的输出\n"
   ]
  }
 ],
 "metadata": {
  "kernelspec": {
   "display_name": "base",
   "language": "python",
   "name": "python3"
  },
  "language_info": {
   "codemirror_mode": {
    "name": "ipython",
    "version": 3
   },
   "file_extension": ".py",
   "mimetype": "text/x-python",
   "name": "python",
   "nbconvert_exporter": "python",
   "pygments_lexer": "ipython3",
   "version": "3.13.5"
  }
 },
 "nbformat": 4,
 "nbformat_minor": 5
}
