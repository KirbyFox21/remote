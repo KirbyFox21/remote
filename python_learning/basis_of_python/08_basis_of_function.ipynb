{
 "cells": [
  {
   "cell_type": "code",
   "execution_count": 17,
   "id": "c3e2d4a6",
   "metadata": {},
   "outputs": [
    {
     "name": "stdout",
     "output_type": "stream",
     "text": [
      "(3, -1)\n"
     ]
    }
   ],
   "source": [
    "# 函数基础\n",
    "# 定义\n",
    "# def 函数名(形参a, 形参b, ...):\n",
    "#     函数体\n",
    "# 调用\n",
    "# 函数名(实参1, 实参2, ...)\n",
    "# 注意1. 有冒号，代码块由缩进严格划分\n",
    "# 注意2. python的函数先定义再调用，定义一定要在调用前\n",
    "\n",
    "# 返回值\n",
    "# 没有return，返回空值none\n",
    "# return 返回值 # 返回这个值\n",
    "# return 返回值1, 返回值2, ... # 以元组形式返回多个值\n",
    "# return也会退出这个函数\n",
    "def add(a, b):\n",
    "    return a + b, a - b\n",
    "    return a, b\n",
    "print(add(1, 2))\n"
   ]
  },
  {
   "cell_type": "code",
   "execution_count": null,
   "id": "fdef2acb",
   "metadata": {},
   "outputs": [
    {
     "name": "stdout",
     "output_type": "stream",
     "text": [
      "(1,) <class 'tuple'>\n",
      "{'name': 'Kirby', 'age': 18} <class 'dict'>\n"
     ]
    }
   ],
   "source": [
    "# 参数\n",
    "# 位置参数（必备参数）\n",
    "\n",
    "# 默认参数\n",
    "# 有默认值的参数\n",
    "# 注意：默认参数可以有多个，但必须在全部位置参数的后面\n",
    "# def 函数名(形参a, 形参b, ..., 默认形参x = 默认值, 默认形参y = 默认值, ...):\n",
    "#     函数体\n",
    "# python应该不允许用不填的方式跳过参数，所以只能从左往右输入参数\n",
    "\n",
    "# 混合传参\n",
    "# 参数名=参数值\n",
    "# 只要参数名写对，顺序可以打乱，但必须在全部位置参数后面\n",
    "\n",
    "# 可变参数\n",
    "# 可以传入多个，也可以不传\n",
    "# def 函数名(*args): # 星号不可少，后面变量名用args只是习惯写法\n",
    "#     函数体\n",
    "# 以元组的形式接收\n",
    "def func1(*args):\n",
    "    print(args,type(args))\n",
    "func1(1)\n",
    "\n",
    "# 关键字参数\n",
    "# def 函数名(**kwargs): # 双星号不可少，后面变量名用kwargs只是习惯写法\n",
    "#     函数体\n",
    "# 传值用 键名 = 值 的形式。类似赋值，并不是字典的那种 键名:值 的形式，键也不需要引号\n",
    "# 以字典的形式接收\n",
    "def func2(**kwargs):\n",
    "    print(kwargs,type(kwargs))\n",
    "func2(name = 'Kirby', age = 18)\n"
   ]
  },
  {
   "cell_type": "code",
   "execution_count": 22,
   "id": "5aeecfd8",
   "metadata": {},
   "outputs": [
    {
     "name": "stdout",
     "output_type": "stream",
     "text": [
      "func outside\n",
      "func inside\n"
     ]
    }
   ],
   "source": [
    "# 函数嵌套\n",
    "# 函数定义与调用必须同级，在python中就是有相同缩进\n",
    "# 如果调用在定义内，会出现循环，可以用来实现递归\n",
    "# 如果调用所在的层级比定义高，会报错未定义\n",
    "def func_out():\n",
    "    print(\"func outside\")\n",
    "    def func_in():\n",
    "        print(\"func inside\")\n",
    "    func_in()\n",
    "func_out()\n"
   ]
  },
  {
   "cell_type": "code",
   "execution_count": null,
   "id": "17d02ae3",
   "metadata": {},
   "outputs": [],
   "source": [
    "# 全局变量\n",
    "# 定义在函数外的变量都是全局变量，可以在函数内直接调用\n",
    "# 在函数内调用时，会先尝试调用函数里存在的同名变量，如果没有，才调用这个全局变量\n",
    "# 不允许直接在函数内定义和修改全局变量，除非加 global 变量名，声明函数中的这个变量就是全局变量"
   ]
  },
  {
   "cell_type": "code",
   "execution_count": null,
   "id": "01a09d1f",
   "metadata": {},
   "outputs": [],
   "source": [
    "# 作用域\n"
   ]
  }
 ],
 "metadata": {
  "kernelspec": {
   "display_name": "base",
   "language": "python",
   "name": "python3"
  },
  "language_info": {
   "codemirror_mode": {
    "name": "ipython",
    "version": 3
   },
   "file_extension": ".py",
   "mimetype": "text/x-python",
   "name": "python",
   "nbconvert_exporter": "python",
   "pygments_lexer": "ipython3",
   "version": "3.13.5"
  }
 },
 "nbformat": 4,
 "nbformat_minor": 5
}
