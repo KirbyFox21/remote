{
 "cells": [
  {
   "cell_type": "code",
   "execution_count": null,
   "id": "f3f15939",
   "metadata": {},
   "outputs": [],
   "source": [
    "# 安装anaconda作为唯一python解释器，因为anaconda的包比较全\n",
    "# 安装时注意选择添加到PATH\n",
    "# 安装vs code，安装其中的中文翻译插件、python插件、jupyter插件"
   ]
  }
 ],
 "metadata": {
  "language_info": {
   "name": "python"
  }
 },
 "nbformat": 4,
 "nbformat_minor": 5
}
