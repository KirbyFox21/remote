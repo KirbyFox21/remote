{
 "cells": [
  {
   "cell_type": "code",
   "execution_count": 13,
   "id": "d35d7057",
   "metadata": {},
   "outputs": [
    {
     "name": "stdout",
     "output_type": "stream",
     "text": [
      "-1 -1 -1\n",
      "[1, 2, 3]\n"
     ]
    }
   ],
   "source": [
    "# 类型转换\n",
    "# int() 只能转换数值或纯数字字符串（允许开头的正负号但不能有空格，不允许小数点）\n",
    "# 浮点数会截断小数部分\n",
    "a = -1.7\n",
    "b = -1.1\n",
    "c = '-1'\n",
    "print(int(a), int(b), int(c))\n",
    "\n",
    "# float() 只能转换数值或纯数字字符串（允许开头的正负号，允许小数点，但不能有空格）\n",
    "\n",
    "# str() 都可以转换成字符串\n",
    "# float类型会去掉小数部分最后的0\n",
    "l1 = [1,2,3]\n",
    "print(str(l1)) # 输出的是字符串形式，只是引号在输出面板里不显示"
   ]
  },
  {
   "cell_type": "code",
   "execution_count": null,
   "id": "5845c763",
   "metadata": {},
   "outputs": [
    {
     "name": "stdout",
     "output_type": "stream",
     "text": [
      "20\n",
      "{'name': 'kirby', 'age': 18}\n"
     ]
    }
   ],
   "source": [
    "# eval() 把字符串当作python语句执行，返回相应结果\n",
    "# 就是去掉最外层的引号，执行里面的内容\n",
    "print(eval('10+10'))\n",
    "s1 = \"{'name':'kirby', 'age':18}\" # 内外引号不同种，内部的无需转义\n",
    "d1 = eval(s1)\n",
    "print(d1)\n",
    "# eval()不安全，容易修改数据，不建议用\n"
   ]
  },
  {
   "cell_type": "code",
   "execution_count": null,
   "id": "676fa939",
   "metadata": {},
   "outputs": [
    {
     "name": "stdout",
     "output_type": "stream",
     "text": [
      "('a', 'b', 'c', 'd', 'e', 'f') <class 'tuple'>\n",
      "[1, 2, 3, 4, 5, 6, 7, 8, 9, 10] <class 'list'>\n",
      "['a', 'd', 'e', 'c', 'f', 'b']\n"
     ]
    }
   ],
   "source": [
    "# list(可迭代对象) tuple(可迭代对象)\n",
    "# 将可迭代对象转化成列表和元组\n",
    "# 复习：常见的可迭代对象有str, list, tuple, dictionary, set, 生成器（如range()）\n",
    "t1 = tuple('abcdef')\n",
    "l1 = list(range(1,11))\n",
    "print(t1,type(t1))\n",
    "print(l1,type(l1))\n",
    "# 注意1. 直接迭代字典，得到的是键名\n",
    "# 注意2. 迭代集合时，会先去重和进行无序排列，再迭代\n",
    "set1 = {'a', 'b', 'c', 'd', 'e', 'f', 'd'}\n",
    "l1 = list(set1)\n",
    "print(l1)\n"
   ]
  },
  {
   "cell_type": "code",
   "execution_count": null,
   "id": "2f678be5",
   "metadata": {},
   "outputs": [],
   "source": []
  }
 ],
 "metadata": {
  "kernelspec": {
   "display_name": "base",
   "language": "python",
   "name": "python3"
  },
  "language_info": {
   "codemirror_mode": {
    "name": "ipython",
    "version": 3
   },
   "file_extension": ".py",
   "mimetype": "text/x-python",
   "name": "python",
   "nbconvert_exporter": "python",
   "pygments_lexer": "ipython3",
   "version": "3.13.5"
  }
 },
 "nbformat": 4,
 "nbformat_minor": 5
}
