{
 "cells": [
  {
   "cell_type": "code",
   "execution_count": 1,
   "id": "46be8c06",
   "metadata": {},
   "outputs": [
    {
     "name": "stdout",
     "output_type": "stream",
     "text": [
      "5050\n"
     ]
    }
   ],
   "source": [
    "# 循环语句\n",
    "# while 条件:\n",
    "#     循环体\n",
    "#     改变变量\n",
    "# 记得自动缩进和冒号\n",
    "i = 1\n",
    "sum = 0\n",
    "while i <= 100:\n",
    "    sum += i\n",
    "    i += 1\n",
    "print(sum)\n",
    "\n",
    "# 嵌套循环时，注意层级由缩进严格决定\n",
    "# while 条件1:\n",
    "#     循环体1\n",
    "#     while 条件2:\n",
    "#         循环体2\n",
    "#         改变变量2\n",
    "#     改变变量1\n"
   ]
  },
  {
   "cell_type": "code",
   "execution_count": 2,
   "id": "03ed33ad",
   "metadata": {},
   "outputs": [
    {
     "name": "stdout",
     "output_type": "stream",
     "text": [
      "h\n",
      "e\n",
      "l\n",
      "l\n",
      "o\n",
      "o\n"
     ]
    }
   ],
   "source": [
    "# for 迭代循环\n",
    "# for 变量 in 可迭代对象:\n",
    "#     循环体\n",
    "# 注意：python中的可迭代对象包含列表、字符串等\n",
    "i = \"循环外的i\"\n",
    "s = \"hello\"\n",
    "for i in s:\n",
    "    print(i)\n",
    "print(i)\n",
    "# 所以for循环用的还是之前的i\n",
    "# 这里主要的区别是如果这个变量之前没有定义，可以在for的条件中定义变量\n"
   ]
  },
  {
   "cell_type": "code",
   "execution_count": 1,
   "id": "493457c1",
   "metadata": {},
   "outputs": [
    {
     "name": "stdout",
     "output_type": "stream",
     "text": [
      "1\n",
      "2\n",
      "2\n",
      "0\n",
      "1\n",
      "2\n",
      "2\n",
      "100 5050\n",
      "100\n",
      "0 6\n",
      "1 2\n",
      "2 5\n"
     ]
    }
   ],
   "source": [
    "# range\n",
    "# for 变量 in range():\n",
    "# 1. 如果是range(start,end,step)，为说明方便假设步长step为1，则循环执行 end-start 次，\n",
    "#    变量的取值由start到end-1，循环结束后变量的值是end-1\n",
    "# 2. 如果是range(n)，则循环执行n次，变量的取值从0到n-1，相当于start是0\n",
    "for i in range(1,3): # 不写step默认为1\n",
    "    print(i)\n",
    "print(i)\n",
    "for i in range(3):\n",
    "    print(i)\n",
    "print(i)\n",
    "\n",
    "sum = 0\n",
    "for i in range(1,101):\n",
    "    sum += i\n",
    "print(i,sum)\n",
    "\n",
    "# 如果变量在循环体中不会被使用，可以用_替代\n",
    "# 这只是约定俗成的习惯，实际上_也被认为是变量，也可以在循环体中使用，但不会这么用\n",
    "i = 0\n",
    "for _ in range(100):\n",
    "    i += 1\n",
    "print (i)\n",
    "\n",
    "# 枚举遍历\n",
    "# for index, j in enumerate(可迭代对象):\n",
    "#     循环体\n",
    "# enumerate 列举，返回的 index 和 j 分别为索引和元素值\n",
    "for i, num in enumerate([6, 2, 5]):\n",
    "    print(i, num)\n"
   ]
  },
  {
   "cell_type": "code",
   "execution_count": null,
   "id": "83a469a1",
   "metadata": {},
   "outputs": [],
   "source": [
    "# 迭代列表\n",
    "# 学习了列表之后再回来补上"
   ]
  },
  {
   "cell_type": "code",
   "execution_count": null,
   "id": "1c748b68",
   "metadata": {},
   "outputs": [],
   "source": [
    "# break和continue\n",
    "# 只可以用在循环中，用法与通常一致\n",
    "# while循环，一定要在continue之前修改变量，否则会陷入死循环\n"
   ]
  }
 ],
 "metadata": {
  "kernelspec": {
   "display_name": "python 3.12",
   "language": "python",
   "name": "py312"
  },
  "language_info": {
   "codemirror_mode": {
    "name": "ipython",
    "version": 3
   },
   "file_extension": ".py",
   "mimetype": "text/x-python",
   "name": "python",
   "nbconvert_exporter": "python",
   "pygments_lexer": "ipython3",
   "version": "3.12.12"
  }
 },
 "nbformat": 4,
 "nbformat_minor": 5
}
