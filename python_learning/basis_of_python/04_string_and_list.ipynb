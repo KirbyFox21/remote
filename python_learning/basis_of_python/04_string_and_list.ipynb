{
 "cells": [
  {
   "cell_type": "code",
   "execution_count": 1,
   "id": "916a603f",
   "metadata": {},
   "outputs": [
    {
     "name": "stdout",
     "output_type": "stream",
     "text": [
      "abc <class 'str'>\n",
      "b'abc' <class 'bytes'>\n",
      "abc <class 'str'>\n",
      "中文字符 <class 'str'>\n",
      "b'\\xe4\\xb8\\xad\\xe6\\x96\\x87\\xe5\\xad\\x97\\xe7\\xac\\xa6' <class 'bytes'>\n",
      "中文字符 <class 'str'>\n"
     ]
    }
   ],
   "source": [
    "# 字符串编码\n",
    "# Unicode：2 bytes，UTF-8：不定长编码\n",
    "s1 = \"abc\"\n",
    "print(s1,type(s1))\n",
    "s2 = s1.encode()\n",
    "print(s2,type(s2))\n",
    "s3 = s2.decode()\n",
    "print(s3,type(s3))\n",
    "\n",
    "a1 = \"中文字符\"\n",
    "print(a1,type(a1))\n",
    "a2 = a1.encode(\"utf-8\") # 可以不写 \"utf-8\"，不写就默认用utf-8编码\n",
    "print(a2,type(a2))\n",
    "a3 = a2.decode(\"utf-8\")\n",
    "print(a3,type(a3))"
   ]
  },
  {
   "cell_type": "code",
   "execution_count": 2,
   "id": "0c19a449",
   "metadata": {},
   "outputs": [
    {
     "name": "stdout",
     "output_type": "stream",
     "text": [
      "True\n",
      "False\n"
     ]
    }
   ],
   "source": [
    "# 字符串运算符\n",
    "# + 字符串拼接\n",
    "# * 重复输出 \"abc\" * 2 = \"abcabc\"\n",
    "\n",
    "# 成员运算符\n",
    "# s1 in str 判断字符串str中是否有s1，返回逻辑值\n",
    "# not in 是相反的判断\n",
    "print(\"ab\" in \"abc\")\n",
    "print(\"a\" not in \"abc\")\n"
   ]
  },
  {
   "cell_type": "code",
   "execution_count": 3,
   "id": "6306aa46",
   "metadata": {},
   "outputs": [
    {
     "name": "stdout",
     "output_type": "stream",
     "text": [
      "b\n",
      "f\n",
      "123\n",
      "0123\n",
      "123456789\n",
      "012345\n",
      "\n",
      "9876\n"
     ]
    }
   ],
   "source": [
    "# 索引\n",
    "# python的索引从0开始\n",
    "# 格式：字符串或字符串变量[下标]\n",
    "# 若从右往左，索引从-1开始\n",
    "s1 = \"abc\"\n",
    "print(s1[1])\n",
    "print(\"def\"[-1])\n",
    "# 切片一个范围用 [start:end:step]\n",
    "# 表示由start开始，取到end的前一位，步长为step\n",
    "# 包前不包后\n",
    "# 不写步长默认为1\n",
    "s2 = \"0123456789\"\n",
    "print(s2[1:4])\n",
    "print(s2[:4])\n",
    "print(s2[1:])\n",
    "# 用负数就是从右往左\n",
    "# 但是要注意步长默认是+1，步长为正表示从左往右取，步长为负表示从右往左取\n",
    "print(s2[:-4]) # 依然是不包括第-4位\n",
    "print(s2[-1:-5]) # 不输出，因为步长默认是+1\n",
    "print(s2[-1:-5:-1])"
   ]
  },
  {
   "cell_type": "code",
   "execution_count": 4,
   "id": "1d873757",
   "metadata": {},
   "outputs": [],
   "source": [
    "# 字符串操作\n",
    "# 目前可能用处不大，之后再补上\n",
    "\n"
   ]
  },
  {
   "cell_type": "code",
   "execution_count": 5,
   "id": "8f33b15f",
   "metadata": {},
   "outputs": [
    {
     "name": "stdout",
     "output_type": "stream",
     "text": [
      "2\n",
      "a\n"
     ]
    }
   ],
   "source": [
    "# 列表\n",
    "# 列表名 = [元素1, 元素2, ...]\n",
    "# 各个元素的数据类型可以不同\n",
    "# 列表可以被索引和切片，规则与字符串一致\n",
    "# 列表是可迭代对象，可以在for循环中被遍历\n",
    "l1 = [1, 2, 'a', 4]\n",
    "for i in l1[1:3]:\n",
    "    print(i)"
   ]
  },
  {
   "cell_type": "code",
   "execution_count": null,
   "id": "a174dbda",
   "metadata": {},
   "outputs": [
    {
     "name": "stdout",
     "output_type": "stream",
     "text": [
      "['one', 'two', 'three', 'four']\n",
      "['one', 'two', 'three', 'f', 'o', 'u', 'r']\n",
      "['one', 'four', 'two', 'three']\n",
      "None\n",
      "['one', 'two', 'three', 'four']\n",
      "[0, 1, 2, 4, 5, 6, 7, 8, 9]\n",
      "[0, 1, 2, 3, 4, 5, 4, 5, 6, 7, 8, 9]\n"
     ]
    }
   ],
   "source": [
    "# 列表操作\n",
    "# 添加元素\n",
    "# append() 整体添加在列表最后\n",
    "# extend(可迭代对象) 只能是可迭代对象，把其中的每个元素依次添加\n",
    "# insert(索引, 内容) 在指定索引位置处添加，如果索引处有内容，则将原来的内容后移\n",
    "l2 = [\"one\", \"two\", \"three\"]\n",
    "l2.append(\"four\")\n",
    "print(l2)\n",
    "\n",
    "l2 = [\"one\", \"two\", \"three\"]\n",
    "l2.extend(\"four\")\n",
    "print(l2)\n",
    "# l2.extend(4) # 报错，因为int不是可迭代对象\n",
    "\n",
    "l2 = [\"one\", \"two\", \"three\"]\n",
    "l2.insert(1,\"four\")\n",
    "print(l2)\n",
    "\n",
    "# 注意 列表名.append 等操作本身就修改了列表，不是像非赋值运算符那样\n",
    "l2 = [\"one\", \"two\", \"three\"]\n",
    "print(l2.append(\"four\")) # 输出none，因为append()的返回空值none\n",
    "print(l2)\n",
    "\n",
    "# 按索引修改元素\n",
    "# 列表名[下标] = 值\n",
    "# 也可以用切片。如果用切片，后面的值只能是可迭代对象\n",
    "# 修改逻辑是把切片划定的部分取出，再把需要添加的内容放进去，列表长度可以随之改变\n",
    "l3 = [0, 1, 2, 3, 4, 5, 6, 7, 8, 9]\n",
    "l3[1:4] = [1, 2]\n",
    "print(l3)\n",
    "\n",
    "l3 = [0, 1, 2, 3, 4, 5, 6, 7, 8, 9]\n",
    "l3[1:4] = [1, 2, 3, 4, 5]\n",
    "print(l3)\n"
   ]
  },
  {
   "cell_type": "code",
   "execution_count": null,
   "id": "02e0aeb8",
   "metadata": {},
   "outputs": [
    {
     "name": "stdout",
     "output_type": "stream",
     "text": [
      "['a', 'b', 'd']\n",
      "['a', 'b', 'c']\n",
      "['a', 'b', 'd'] c\n",
      "['a', 'c', 'd', 'b']\n"
     ]
    }
   ],
   "source": [
    "# 查找元素\n",
    "# 元素 in 列表 同上，判断元素是否存在，返回逻辑值\n",
    "# not in 同上\n",
    "# index count 同字符串\n",
    "\n",
    "# 删除元素\n",
    "# del 列表名 删除整个列表或 del 列表名[下标] 删除指定索引的元素\n",
    "# 可以用切片删除多个元素\n",
    "l4 = ['a', 'b', 'c', 'd']\n",
    "del l4[2]\n",
    "print(l4)\n",
    "\n",
    "# pop() 删除指定下标的元素，不写下标默认为最后一个元素\n",
    "# 有返回值，返回被删除的元素 # 所以可以理解为弹出这个元素\n",
    "# 每次只可以删除一个元素\n",
    "l4 = ['a', 'b', 'c', 'd']\n",
    "l4.pop()\n",
    "print(l4)\n",
    "\n",
    "l4 = ['a', 'b', 'c', 'd']\n",
    "l5 = l4.pop(2)\n",
    "print(l4, l5)\n",
    "\n",
    "# remove() 删除指定内容的元素\n",
    "# 默认只删除第一个出现的指定元素\n",
    "l4 = ['a', 'b', 'c', 'd', 'b']\n",
    "l4.remove('b')\n",
    "print(l4)\n"
   ]
  },
  {
   "cell_type": "code",
   "execution_count": 8,
   "id": "c930c668",
   "metadata": {},
   "outputs": [
    {
     "name": "stdout",
     "output_type": "stream",
     "text": [
      "[1, 2, 3, 4, 5]\n",
      "[4, 2, 3, 5, 1]\n",
      "[5, 4, 3, 2, 1]\n"
     ]
    }
   ],
   "source": [
    "# 排序\n",
    "# sort 将列表按特定顺序重新排列，默认从小到大升序\n",
    "l6 = [1, 5, 3, 2, 4]\n",
    "l6.sort()\n",
    "print(l6)\n",
    "\n",
    "# reverse 将列表倒置，不是排序\n",
    "l6 = [1, 5, 3, 2, 4]\n",
    "l6.reverse()\n",
    "print(l6)\n",
    "\n",
    "# 合用二者可以实现降序排序\n",
    "l6 = [1, 5, 3, 2, 4]\n",
    "l6.sort()\n",
    "l6.reverse()\n",
    "print(l6)"
   ]
  },
  {
   "cell_type": "code",
   "execution_count": 9,
   "id": "b675bcd2",
   "metadata": {},
   "outputs": [
    {
     "name": "stdout",
     "output_type": "stream",
     "text": [
      "[1, 3, 5, 7, 9]\n",
      "[None, None, None, None, None]\n",
      "[1, 3, 5, 7, 9]\n",
      "[1, 3, 5, 7, 9]\n"
     ]
    }
   ],
   "source": [
    "# 列表推导式\n",
    "# [表达式 for 变量 in 可迭代对象]\n",
    "# 列表推导式返回表达式输出值组成的列表\n",
    "l7 = [i * 2 + 1 for i in range(5)]\n",
    "print(l7)\n",
    "\n",
    "l7 = []\n",
    "l7 = [l7.append(i) for i in range(5)]\n",
    "print(l7) # 返回全是none，因为append的返回值是none，虽然循环过程中l7被修改，但最后l7被列表推导式的返回覆盖了\n",
    "\n",
    "# 列表推导式可以加条件\n",
    "# [表达式 for 变量 in 可迭代对象 if 条件]\n",
    "l8 = [i for i in range(10) if i % 2 == 1]\n",
    "print(l8)\n",
    "# 这等效于\n",
    "l8 = []\n",
    "for i in range(10):\n",
    "    if i % 2 == 1:\n",
    "        l8.append(i)\n",
    "print(l8)\n",
    "\n",
    "# 列表推导式还允许多重循环等\n"
   ]
  },
  {
   "cell_type": "code",
   "execution_count": 10,
   "id": "8ffcbb89",
   "metadata": {},
   "outputs": [
    {
     "name": "stdout",
     "output_type": "stream",
     "text": [
      "[4, 5, 6]\n",
      "6\n"
     ]
    }
   ],
   "source": [
    "# 列表嵌套\n",
    "# 列表中的元素也可以是列表\n",
    "l9 = [1, 2, 3, [4, 5, 6]]\n",
    "print(l9[3])\n",
    "print(l9[3][2])"
   ]
  },
  {
   "cell_type": "code",
   "execution_count": null,
   "id": "edd87f2c",
   "metadata": {},
   "outputs": [],
   "source": []
  }
 ],
 "metadata": {
  "kernelspec": {
   "display_name": "base",
   "language": "python",
   "name": "python3"
  },
  "language_info": {
   "codemirror_mode": {
    "name": "ipython",
    "version": 3
   },
   "file_extension": ".py",
   "mimetype": "text/x-python",
   "name": "python",
   "nbconvert_exporter": "python",
   "pygments_lexer": "ipython3",
   "version": "3.13.5"
  }
 },
 "nbformat": 4,
 "nbformat_minor": 5
}
