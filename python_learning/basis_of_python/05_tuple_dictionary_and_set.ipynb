{
 "cells": [
  {
   "cell_type": "code",
   "execution_count": 6,
   "id": "64598a7d",
   "metadata": {},
   "outputs": [
    {
     "name": "stdout",
     "output_type": "stream",
     "text": [
      "() <class 'tuple'>\n",
      "1 <class 'int'>\n",
      "(1,) <class 'tuple'>\n"
     ]
    }
   ],
   "source": [
    "# 元组 tuple\n",
    "# 元组名 = (元素1, 元素2, ...) 各个元素的数据类型可以不同\n",
    "t1 = (1, 2, 3, 4, 5)\n",
    "# 定义空元组\n",
    "t1 = ()\n",
    "print(t1, type(t1))\n",
    "# 定义单个元素的元组时，最后必须加逗号，否则就会被认为是这一元素本身\n",
    "t1 = (1)\n",
    "print(t1,type(t1))\n",
    "t1 = (1,)\n",
    "print(t1,type(t1))\n"
   ]
  },
  {
   "cell_type": "code",
   "execution_count": 5,
   "id": "200794e5",
   "metadata": {},
   "outputs": [
    {
     "name": "stdout",
     "output_type": "stream",
     "text": [
      "(2, 3) 1493750999744\n",
      "(1, 2, 3, 4, 5, 6) 1493750001152\n"
     ]
    }
   ],
   "source": [
    "# 元组的索引和切片方法与列表一致\n",
    "t1 = (1, 2, 3, 4, 5)\n",
    "print(t1[1:3], id(t1))\n",
    "# 但是python的元组中的数据不可以增、删、改，只允许查询\n",
    "# 但是似乎允许这样\n",
    "t1 = t1 + (6,)\n",
    "print(t1, id(t1))\n",
    "# 不过这与列表append()等修改操作有本质区别\n",
    "# 列表的引用修改不会改变对象的地址\n",
    "# 但这里可以看到t1的内存地址被改变了，实际上t1引用的对象已经被换成了一个新元组\n",
    "# 这是因为元组是不可变对象，本质上还是不允许修改\n",
    "# 这个操作换掉了变量引用的对象，原来的对象元组本身没变，只是不再被t1引用\n",
    "# 详见第7节\n",
    "\n",
    "# 元组和列表的区别\n",
    "# 1. 定义单个元素的元组需要加逗号\n",
    "# 2. 元组中的数据不允许修改，只可以查询\n"
   ]
  },
  {
   "cell_type": "code",
   "execution_count": 3,
   "id": "9c94414c",
   "metadata": {},
   "outputs": [
    {
     "name": "stdout",
     "output_type": "stream",
     "text": [
      "My name is Kirby. I'm 18 years old.\n",
      "My name is Kirby. I'm 18 years old.\n"
     ]
    }
   ],
   "source": [
    "# 元组的应用场景\n",
    "# 1. 函数的参数和返回值\n",
    "# 2. 格式化输出中的()本质上就是一个元组\n",
    "name = \"Kirby\"\n",
    "age = 18\n",
    "print(\"My name is %s. I'm %d years old.\" % (name,age))\n",
    "info = (name, age)\n",
    "print(\"My name is %s. I'm %d years old.\" % info)\n",
    "\n",
    "# 3. 数据不允许修改，可以保证数据的安全"
   ]
  },
  {
   "cell_type": "code",
   "execution_count": 4,
   "id": "e9260961",
   "metadata": {},
   "outputs": [
    {
     "name": "stdout",
     "output_type": "stream",
     "text": [
      "{'name': 'Alice'}\n",
      "{1: 'one', 2.1: 'two point oen'}\n",
      "{(1, 1): 1, (1, 2): 0, (2, 1): 0, (2, 2): -1}\n"
     ]
    }
   ],
   "source": [
    "# 字典\n",
    "# 字典名 = {键1:值1, 键2:值2, ...} 用键值对形式保存数据\n",
    "# 键名可以是字符串、数值、元组这些不可变数据，列表可被修改，不能作为键\n",
    "# 要求字典中的键必须唯一，但值可以重复\n",
    "# 若存在重复的键，则前面的对应值会被后面的覆盖，不报错\n",
    "dic = {'name':'Kirby', 'name':'Alice'}\n",
    "print(dic)\n",
    "dic = {1:'one', 2.1:'two point oen'}\n",
    "print(dic)\n",
    "dic = {(1,1):+1, (1,2):0, (2,1):0, (2,2):-1}\n",
    "print(dic)\n"
   ]
  },
  {
   "cell_type": "code",
   "execution_count": 5,
   "id": "c286c2b5",
   "metadata": {},
   "outputs": [
    {
     "name": "stdout",
     "output_type": "stream",
     "text": [
      "Kirby\n",
      "18\n",
      "None\n",
      "unknown\n"
     ]
    }
   ],
   "source": [
    "# 字典的常见操作也是增删改查\n",
    "# 查看元素\n",
    "# 字典中的元素的索引是键名\n",
    "# 1. 字典名[键名]\n",
    "# 2. 字典名.get(键名, 默认值) 返回该键对应的值。如果键名不存在，返回默认值，未设置默认值则返回空值\n",
    "# 区别就是键名不存在时，前者报错，后者返回空值none\n",
    "dic1 = {'name':'Kirby', 'age':18}\n",
    "print(dic1['name'])\n",
    "print(dic1.get('age'))\n",
    "# print(dic['gender']) # 键名不存在，报错\n",
    "print(dic1.get('gender')) # 只是返回空值\n",
    "print(dic1.get('gender','unknown')) # 设置了默认值，键名不存在时就返回默认值"
   ]
  },
  {
   "cell_type": "code",
   "execution_count": 6,
   "id": "72089502",
   "metadata": {},
   "outputs": [
    {
     "name": "stdout",
     "output_type": "stream",
     "text": [
      "{'name': 'Kirby', 'age': 19, 'gender': 'male'}\n"
     ]
    }
   ],
   "source": [
    "# 修改和增加元素\n",
    "# 字典名[键名] = 值\n",
    "# 如果键名已存在，则修改；不存在，则新增这对键值\n",
    "dic1 = {'name':'Kirby', 'age':18}\n",
    "dic1['age'] = 19\n",
    "dic1['gender'] = 'male'\n",
    "print(dic1)\n"
   ]
  },
  {
   "cell_type": "code",
   "execution_count": 7,
   "id": "f367e495",
   "metadata": {},
   "outputs": [
    {
     "name": "stdout",
     "output_type": "stream",
     "text": [
      "{'name': 'Kirby'}\n",
      "{}\n",
      "18\n",
      "{'name': 'Kirby'}\n",
      "('age', 18)\n",
      "{'name': 'Kirby'}\n"
     ]
    }
   ],
   "source": [
    "# 删除元素\n",
    "# del\n",
    "# del 字典名 删除整个字典\n",
    "# del 字典名[键名] 删除该键值对，若键名不存在就报错\n",
    "dic1 = {'name':'Kirby', 'age':18}\n",
    "del dic1['age']\n",
    "print(dic1)\n",
    "\n",
    "# clear() 清空所有键值对，只保留空字典\n",
    "dic1 = {'name':'Kirby', 'age':18}\n",
    "dic1.clear()\n",
    "print(dic1)\n",
    "\n",
    "# pop(键名) 删除该键值对，返回该键对应的值 # 可以理解为弹出这个值\n",
    "# 键名留空或不存在都报错\n",
    "dic1 = {'name':'Kirby', 'age':18}\n",
    "print(dic1.pop('age'))\n",
    "print(dic1)\n",
    "# popitem() 可以实现像对列表进行pop()操作的功能\n",
    "# 注意返回的是元组(键名, 值)\n",
    "# python 3.7之前为随机删除一个键值对，3.7后为删除最后一个键值对\n",
    "dic1 = {'name':'Kirby', 'age':18}\n",
    "print(dic1.popitem())\n",
    "print(dic1)\n"
   ]
  },
  {
   "cell_type": "code",
   "execution_count": 8,
   "id": "1ce54f75",
   "metadata": {},
   "outputs": [
    {
     "name": "stdout",
     "output_type": "stream",
     "text": [
      "2 3\n",
      "dict_keys(['name', 'age'])\n",
      "name\n",
      "age\n",
      "name\n",
      "age\n",
      "dict_values(['Kirby', 18])\n",
      "Kirby\n",
      "18\n",
      "dict_items([('name', 'Kirby'), ('age', 18)])\n",
      "('name', 'Kirby') <class 'tuple'>\n",
      "('age', 18) <class 'tuple'>\n"
     ]
    }
   ],
   "source": [
    "# 字典的其他操作\n",
    "# len(变量名) 求长度\n",
    "# 可以是字典、列表、字符串等\n",
    "# 返回键值对数、元素个数等\n",
    "dic1 = {'name':'Kirby', 'age':18}\n",
    "l1 = [1, 2, 3]\n",
    "print(len(dic1), len(l1))\n",
    "\n",
    "# keys() 返回字典中的所有键名\n",
    "# 返回值格式为特殊的dict_keys，可以用for循环取出\n",
    "dic1 = {'name':'Kirby', 'age':18}\n",
    "print(dic1.keys())\n",
    "for i in dic1.keys():\n",
    "    print(i)\n",
    "# 没有.keys()，直接迭代字典也是取出键名\n",
    "for i in dic1:\n",
    "    print(i)\n",
    "\n",
    "# values() 返回字典中的所有值\n",
    "# 返回值格式为特殊的dict_values，也可以用for循环取出\n",
    "dic1 = {'name':'Kirby', 'age':18}\n",
    "print(dic1.values())\n",
    "for i in dic1.values():\n",
    "    print(i)\n",
    "\n",
    "# items() 以元组形式返回字典中的所有键值对\n",
    "# 返回值格式为多个元组组成的dict_items，也可以用for循环取出\n",
    "dic1 = {'name':'Kirby', 'age':18}\n",
    "print(dic1.items())\n",
    "for i in dic1.items():\n",
    "    print(i, type(i))\n"
   ]
  },
  {
   "cell_type": "code",
   "execution_count": 9,
   "id": "814ac1f1",
   "metadata": {},
   "outputs": [],
   "source": [
    "# 字典的应用场景\n",
    "# 使用键值对，存储描述对象的相关信息\n"
   ]
  },
  {
   "cell_type": "code",
   "execution_count": 10,
   "id": "6a80971c",
   "metadata": {},
   "outputs": [
    {
     "name": "stdout",
     "output_type": "stream",
     "text": [
      "set() <class 'set'>\n"
     ]
    }
   ],
   "source": [
    "# 集合\n",
    "# 集合名 = {元素1, 元素2, ...} 各个元素的数据类型可以不同\n",
    "# 集合中的元素是无序的、唯一的，可以用于元组和列表的去重\n",
    "# 定义空集合用 s = set()，因为 s = {} 定义的是空字典\n",
    "s1 = set()\n",
    "print(s1,type(s1))\n"
   ]
  },
  {
   "cell_type": "code",
   "execution_count": 11,
   "id": "f09ced43",
   "metadata": {},
   "outputs": [
    {
     "name": "stdout",
     "output_type": "stream",
     "text": [
      "{'b', 'f', 'c', 'e', 'd', 'a'}\n",
      "{1, 2, 3, 4, 5}\n",
      "5830476276278850784 -3847967128040950699\n",
      "5830476276278850784\n"
     ]
    }
   ],
   "source": [
    "# 集合中的元素是无序的\n",
    "s1 = {'a', 'b', 'c', 'd', 'e', 'f'}\n",
    "print(s1)\n",
    "# 集合中的元素是唯一的，可以自动去重\n",
    "s2 = {1, 2, 2, 3, 4, 5, 5}\n",
    "print(s2)\n",
    "# 无序是由哈希表实现的，每次重启内核后（或.py执行代码），相同输入给出的哈希值是不同的\n",
    "# 唯一应该也是由哈希表实现的，只要不重启内核，相同输入给出的哈希值相同\n",
    "# python中int的哈希值就是它自身，除非它的长度超过了输出哈希值的长度\n",
    "print(hash('abc'), hash('def'))\n",
    "print(hash('abc'))\n"
   ]
  },
  {
   "cell_type": "code",
   "execution_count": 12,
   "id": "dda86350",
   "metadata": {},
   "outputs": [
    {
     "name": "stdout",
     "output_type": "stream",
     "text": [
      "{(4, 5), 1, 2, 3}\n",
      "{1, 2, 3, 4, 5}\n"
     ]
    }
   ],
   "source": [
    "# 集合的常见操作\n",
    "# 添加元素\n",
    "# 1. add(元素) 整体添加\n",
    "s3 = {1, 2, 3}\n",
    "s3.add((4, 5))\n",
    "print(s3)\n",
    "# 2. update(可迭代对象) 将可迭代对象中的元素逐个添加\n",
    "# 字典、集合也是可迭代对象 # 注意直接迭代字典给出的是键名\n",
    "s3 = {1, 2, 3}\n",
    "s3.update((4, 5))\n",
    "print(s3)"
   ]
  },
  {
   "cell_type": "code",
   "execution_count": 13,
   "id": "2bf78058",
   "metadata": {},
   "outputs": [
    {
     "name": "stdout",
     "output_type": "stream",
     "text": [
      "{1, 2, 3}\n",
      "{'b', 'f', 'c', 'e', 'd', 'a'}\n",
      "b\n",
      "{'f', 'c', 'e', 'd', 'a'}\n",
      "{1, 2, 3}\n"
     ]
    }
   ],
   "source": [
    "# 删除元素\n",
    "# remove(元素) 删除特定的元素\n",
    "# 如果集合中有该元素，就删除，没有就报错\n",
    "s4 = {1, 2, 3, 4}\n",
    "s4.remove(4)\n",
    "print(s4)\n",
    "\n",
    "# pop() 删除无序排列后的第一个元素（python 3.7以后是第一个），排序实际上是按哈希值排序\n",
    "# 返回值为被删除的元素\n",
    "s5 = {'a', 'b', 'c', 'd', 'e', 'f'}\n",
    "print(s5)\n",
    "print(s5.pop(), s5, sep = '\\n')\n",
    "\n",
    "# discard(元素) 删除特定的元素\n",
    "# 与remove不同，有该元素就删除，但如果没有也不报错，只是不进行任何操作\n",
    "s4 = {1, 2, 3, 4}\n",
    "s4.discard(4)\n",
    "s4.discard(5)\n",
    "print(s4)"
   ]
  },
  {
   "cell_type": "code",
   "execution_count": 14,
   "id": "f34f634c",
   "metadata": {},
   "outputs": [
    {
     "name": "stdout",
     "output_type": "stream",
     "text": [
      "交集为：{4, 5}\n",
      "并集为：{1, 2, 3, 4, 5, 6}\n",
      "这是一个空集：set()\n"
     ]
    }
   ],
   "source": [
    "# 交集和并集\n",
    "# set = set1 & set2 取交集\n",
    "# 若交集为空集，返回空集set()\n",
    "# set = set1 | set2 取并集\n",
    "s6 = {1, 2, 3, 4, 5}\n",
    "s7 = {4, 5, 6}\n",
    "s0 = {9}\n",
    "s8 = s6 & s7\n",
    "print(\"交集为：\", s8, sep = '')\n",
    "s8 = s6 | s7\n",
    "print(\"并集为：\", s8, sep = '')\n",
    "s8 = s6 & s0\n",
    "print(\"这是一个空集：\", s8, sep = '')\n"
   ]
  },
  {
   "cell_type": "code",
   "execution_count": null,
   "id": "cdcbb0dd",
   "metadata": {},
   "outputs": [],
   "source": []
  }
 ],
 "metadata": {
  "kernelspec": {
   "display_name": "base",
   "language": "python",
   "name": "python3"
  },
  "language_info": {
   "codemirror_mode": {
    "name": "ipython",
    "version": 3
   },
   "file_extension": ".py",
   "mimetype": "text/x-python",
   "name": "python",
   "nbconvert_exporter": "python",
   "pygments_lexer": "ipython3",
   "version": "3.13.5"
  }
 },
 "nbformat": 4,
 "nbformat_minor": 5
}
