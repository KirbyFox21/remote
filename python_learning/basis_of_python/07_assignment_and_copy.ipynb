{
 "cells": [
  {
   "cell_type": "code",
   "execution_count": 2,
   "id": "01078efd",
   "metadata": {},
   "outputs": [
    {
     "name": "stdout",
     "output_type": "stream",
     "text": [
      "[1, 2, 3] [1, 2, 3]\n",
      "[1, 1, 3, 4] [1, 1, 3, 4]\n",
      "1936608772032 1936608772032\n",
      "[1, 2, 3, 4] [1, 2, 3]\n",
      "1936608235264 1936608771392\n",
      "False\n",
      "True\n",
      "True\n"
     ]
    },
    {
     "name": "stderr",
     "output_type": "stream",
     "text": [
      "<>:26: SyntaxWarning: \"is\" with 'tuple' literal. Did you mean \"==\"?\n",
      "C:\\Users\\86183\\AppData\\Local\\Temp\\ipykernel_7388\\738382834.py:26: SyntaxWarning: \"is\" with 'tuple' literal. Did you mean \"==\"?\n",
      "  print((1,) is (1,)) # True\n"
     ]
    }
   ],
   "source": [
    "# 赋值\n",
    "# python中的变量实际上是对象的引用，即变量是对象的地址标签\n",
    "# 这样说有点像指针\n",
    "# 将变量赋值给另一个变量时，实际上是创建了同一个对象的另一个引用\n",
    "la = [1, 2, 3]\n",
    "lb = la\n",
    "print(la, lb)\n",
    "# 用引用的方式修改对象，所有引用该对象的变量都会看到这个修改\n",
    "la[1] = 1\n",
    "la.append(4)\n",
    "print(la, lb)\n",
    "# 这是因为la和lb的地址实际上是相同的\n",
    "print(id(la),id(lb)) # 虽然每次运行给出的地址会改变，但都是给出两个相同的地址\n",
    "\n",
    "# 覆写式的赋值会改变对象地址，即使是看起来一样的对象\n",
    "lc = [1, 2, 3]\n",
    "ld = lc\n",
    "lc = [1, 2, 3]\n",
    "lc.append(4)\n",
    "print(lc, ld)\n",
    "print(id(lc), id(ld))\n",
    "# 这是因为虽然两个列表看起来一样，但实际上内存地址不同\n",
    "\n",
    "# is 比较两个对象的内存地址（或变量引用的内存地址）是否一样\n",
    "print([1] is [1]) # False\n",
    "print((1,) is (1,)) # True\n",
    "# 后者为True是因为元组（还有数值、字符串）是不可变对象\n",
    "# 不可变对象分配一样的地址不会出问题，因为它们不可以被修改\n",
    "# 比较值，用 == ，不要用is\n",
    "print([1, 2] == [1, 2])\n"
   ]
  },
  {
   "cell_type": "code",
   "execution_count": null,
   "id": "746fc82f",
   "metadata": {},
   "outputs": [
    {
     "name": "stdout",
     "output_type": "stream",
     "text": [
      "1936622298496 1936622248960\n",
      "[1, 1, 3, 3, [4, 4, 6]] [1, 2, 3, [4, 4, 6]]\n",
      "140713375609832 1936622241664\n",
      "1936622300864 1936622270336\n",
      "[1, 1, 3, 3, [4, 4, 6]] [1, 2, 3, [4, 5, 6]]\n",
      "1936622300672 1936622192192\n"
     ]
    }
   ],
   "source": [
    "# 拷贝\n",
    "# python提供了复制对象的方法，需要先引入copy模块\n",
    "import copy\n",
    "\n",
    "# copy 浅拷贝\n",
    "# 创建新的对象，拷贝第一层的数据\n",
    "# 若有嵌套层，嵌套层仍然指向原来的内存地址\n",
    "l1 = [1, 2, 3, [4, 5, 6]]\n",
    "l2 = copy.copy(l1)\n",
    "print(id(l1), id(l2)) # 地址不同，说明不是同一个对象\n",
    "l1[1] = 1\n",
    "l1.insert(3, 3)\n",
    "l1[4][1] = 4\n",
    "print(l1, l2) # 第一层数据不共享，嵌套层的地址仍然是一样的，这是浅拷贝的含义\n",
    "print(id(l1[3]), id(l2[3])) # 地址相同，说明嵌套层仍然是同一个对象\n",
    "# 优点：速度快、效率高、占用空间少\n",
    "\n",
    "# deepcopy() 深拷贝\n",
    "# 复制出的对象和原来的完全没有关联\n",
    "l1 = [1, 2, 3, [4, 5, 6]]\n",
    "l2 = copy.deepcopy(l1)\n",
    "print(id(l1), id(l2))\n",
    "l1[1] = 1\n",
    "l1.insert(3, 3)\n",
    "l1[4][1] = 4\n",
    "print(l1, l2)\n",
    "print(id(l1[4]), id(l2[3]))\n"
   ]
  },
  {
   "cell_type": "code",
   "execution_count": null,
   "id": "73af329e",
   "metadata": {},
   "outputs": [
    {
     "name": "stdout",
     "output_type": "stream",
     "text": [
      "{'name': 'Kirby', 'age': 18} 1936622456192\n",
      "{'name': 'Alice', 'age': 18} 1936622456192\n",
      "{1, 2, 3, 4, 5} 1936608361184\n",
      "{1, 2, 4, 5} 1936608361184\n"
     ]
    }
   ],
   "source": [
    "# 可变与不可变对象\n",
    "# 可变对象\n",
    "# 对象的值可以被修改，但内存地址不变\n",
    "# 如列表、字典、集合\n",
    "dic = {'name':'Kirby', 'age':18}\n",
    "print(dic, id(dic))\n",
    "dic['name'] = 'Alice'\n",
    "print(dic, id(dic))\n",
    "\n",
    "set = {1, 2, 3, 4, 5}\n",
    "print(set, id(set))\n",
    "set.remove(3)\n",
    "print(set, id(set))\n",
    "\n",
    "# 不可变对象\n",
    "# 存储空间保存的数据不允许被修改\n",
    "# 改变不可变变量的值，就是换了一个对象，变量引用的地址变为新对象的地址\n",
    "# 如数值、字符串、元组\n",
    "\n",
    "# 深浅拷贝只针对可变对象，不可变对象没有相应概念\n"
   ]
  },
  {
   "cell_type": "code",
   "execution_count": null,
   "id": "c3efc19a",
   "metadata": {},
   "outputs": [],
   "source": []
  }
 ],
 "metadata": {
  "kernelspec": {
   "display_name": "base",
   "language": "python",
   "name": "python3"
  },
  "language_info": {
   "codemirror_mode": {
    "name": "ipython",
    "version": 3
   },
   "file_extension": ".py",
   "mimetype": "text/x-python",
   "name": "python",
   "nbconvert_exporter": "python",
   "pygments_lexer": "ipython3",
   "version": "3.13.5"
  }
 },
 "nbformat": 4,
 "nbformat_minor": 5
}
