{
 "cells": [
  {
   "cell_type": "code",
   "execution_count": 99,
   "id": "9a2c3ac2",
   "metadata": {},
   "outputs": [
    {
     "name": "stdout",
     "output_type": "stream",
     "text": [
      "even number\n"
     ]
    }
   ],
   "source": [
    "# 条件语句\n",
    "# if 条件:\n",
    "#     执行内容\n",
    "a = 2\n",
    "if a % 2 == 0:\n",
    "    print(\"even number\")"
   ]
  },
  {
   "cell_type": "code",
   "execution_count": 100,
   "id": "b4ef7cf9",
   "metadata": {},
   "outputs": [
    {
     "name": "stdout",
     "output_type": "stream",
     "text": [
      "2 3\n",
      "2 2\n"
     ]
    }
   ],
   "source": [
    "# python是强制缩进的语言，按缩进划分if语句的内容，不同于c++以{}划分代码块，还有MATLAB的if...end\n",
    "# 另外注意jupyter notebook中不要随便拆开代码块，不然导出为python文件时可能因为缩进产生问题\n",
    "x = 1; y = 2\n",
    "if x < y:\n",
    "    y += 1\n",
    "    x += 1\n",
    "print(x,y)\n",
    "x = 1; y = 2\n",
    "if x > y:\n",
    "    y += 1\n",
    "x += 1\n",
    "print(x,y)"
   ]
  },
  {
   "cell_type": "code",
   "execution_count": 101,
   "id": "458278ab",
   "metadata": {},
   "outputs": [
    {
     "name": "stdout",
     "output_type": "stream",
     "text": [
      "True\n"
     ]
    }
   ],
   "source": [
    "# 运算符\n",
    "# 比较运算符 == != > < >= <=\n",
    "# python 似乎允许连写不等式，即允许写出 1 < a < 2 的式子，但不建议\n",
    "# 逻辑运算符 and or not，最好不要试图用 & | ! 来进行逻辑运算（这里不清楚）\n",
    "# not的用法是 not 表达式，或not (表达式)\n",
    "if not 1 > 2:\n",
    "    print(\"True\")\n",
    "# 三元运算符见下"
   ]
  },
  {
   "cell_type": "code",
   "execution_count": 102,
   "id": "ff4a81bc",
   "metadata": {},
   "outputs": [
    {
     "name": "stdout",
     "output_type": "stream",
     "text": [
      "a<=b\n",
      "a<=b\n"
     ]
    }
   ],
   "source": [
    "# if-else语句\n",
    "a = 1\n",
    "b = 2\n",
    "if a > b:\n",
    "    print(\"a>b\")\n",
    "else:\n",
    "    print(\"a<=b\")\n",
    "#以上代码等价于三元运算符：\n",
    "print(\"a>b\") if a > b else print(\"a<=b\")"
   ]
  },
  {
   "cell_type": "code",
   "execution_count": 103,
   "id": "d1b8db73",
   "metadata": {},
   "outputs": [
    {
     "name": "stdout",
     "output_type": "stream",
     "text": [
      "优秀\n"
     ]
    }
   ],
   "source": [
    "# if-elif-else语句\n",
    "# 多选一，有一个条件满足就不会进行后续的判断了\n",
    "# 记得加冒号\n",
    "score = 85\n",
    "if 0 <= score < 60: # 这里只是展示python可以这么写，考虑到代码规范的问题，应该不建议这么写\n",
    "    print(\"不及格\")\n",
    "elif 60 <= score < 85:\n",
    "    print(\"良好\")\n",
    "elif 85 <= score <= 100:\n",
    "    print(\"优秀\")\n",
    "else:\n",
    "    print(\"无效分数\")"
   ]
  },
  {
   "cell_type": "code",
   "execution_count": 104,
   "id": "08df70c3",
   "metadata": {},
   "outputs": [],
   "source": [
    "# if 嵌套\n",
    "# 都是一样的方式，自动缩进就行"
   ]
  }
 ],
 "metadata": {
  "kernelspec": {
   "display_name": "base",
   "language": "python",
   "name": "python3"
  },
  "language_info": {
   "codemirror_mode": {
    "name": "ipython",
    "version": 3
   },
   "file_extension": ".py",
   "mimetype": "text/x-python",
   "name": "python",
   "nbconvert_exporter": "python",
   "pygments_lexer": "ipython3",
   "version": "3.13.5"
  }
 },
 "nbformat": 4,
 "nbformat_minor": 5
}
