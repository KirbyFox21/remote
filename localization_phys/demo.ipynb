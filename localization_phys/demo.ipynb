{
 "cells": [
  {
   "cell_type": "code",
   "execution_count": 8,
   "id": "6b32c5f8",
   "metadata": {},
   "outputs": [
    {
     "name": "stdout",
     "output_type": "stream",
     "text": [
      "WARNING:tensorflow:5 out of the last 5 calls to <function TensorFlowBackend.value_and_grad.<locals>.wrapper at 0x760b128fd7a0> triggered tf.function retracing. Tracing is expensive and the excessive number of tracings could be due to (1) creating @tf.function repeatedly in a loop, (2) passing tensors with different shapes, (3) passing Python objects instead of tensors. For (1), please define your @tf.function outside of the loop. For (2), @tf.function has reduce_retracing=True option that can avoid unnecessary retracing. For (3), please refer to https://www.tensorflow.org/guide/function#controlling_retracing and https://www.tensorflow.org/api_docs/python/tf/function for  more details.\n",
      "(<tf.Tensor: shape=(), dtype=float64, numpy=0.7605744130365597>, <tf.Tensor: shape=(2, 1), dtype=float32, numpy=\n",
      "array([[0.64925075],\n",
      "       [0.        ]], dtype=float32)>)\n"
     ]
    }
   ],
   "source": [
    "import tensorcircuit as tc\n",
    "\n",
    "tc.set_dtype(\"complex128\")\n",
    "K = tc.set_backend(\"tensorflow\")\n",
    "\n",
    "n = 1\n",
    "\n",
    "\n",
    "def loss(params, n):\n",
    "    c = tc.Circuit(n)\n",
    "    for i in range(n):\n",
    "        c.rx(i, theta=params[0, i])\n",
    "    for i in range(n):\n",
    "        c.rz(i, theta=params[1, i])\n",
    "    loss = 0.0\n",
    "    for i in range(n):\n",
    "        loss += c.expectation([tc.gates.z(), [i]])\n",
    "    return K.real(loss)\n",
    "\n",
    "\n",
    "vgf = K.jit(K.value_and_grad(loss), static_argnums=1)\n",
    "params = K.implicit_randn([2, n])\n",
    "print(vgf(params, n))  # get the quantum loss and the gradient"
   ]
  },
  {
   "cell_type": "code",
   "execution_count": 12,
   "id": "42a2f557",
   "metadata": {},
   "outputs": [
    {
     "name": "stdout",
     "output_type": "stream",
     "text": [
      "Help on function set_tensornetwork_backend in module tensorcircuit.cons:\n",
      "\n",
      "set_tensornetwork_backend(backend: Union[str, NoneType] = None, set_global: bool = True) -> Any\n",
      "    To set the runtime backend of tensorcircuit.\n",
      "    \n",
      "    Note: ``tc.set_backend`` and ``tc.cons.set_tensornetwork_backend`` are the same.\n",
      "    \n",
      "    :Example:\n",
      "    \n",
      "    >>> tc.set_backend(\"numpy\")\n",
      "    numpy_backend\n",
      "    >>> tc.gates.num_to_tensor(0.1)\n",
      "    array(0.1+0.j, dtype=complex64)\n",
      "    >>>\n",
      "    >>> tc.set_backend(\"tensorflow\")\n",
      "    tensorflow_backend\n",
      "    >>> tc.gates.num_to_tensor(0.1)\n",
      "    <tf.Tensor: shape=(), dtype=complex64, numpy=(0.1+0j)>\n",
      "    >>>\n",
      "    >>> tc.set_backend(\"pytorch\")\n",
      "    pytorch_backend\n",
      "    >>> tc.gates.num_to_tensor(0.1)\n",
      "    tensor(0.1000+0.j)\n",
      "    >>>\n",
      "    >>> tc.set_backend(\"jax\")\n",
      "    jax_backend\n",
      "    >>> tc.gates.num_to_tensor(0.1)\n",
      "    DeviceArray(0.1+0.j, dtype=complex64)\n",
      "    \n",
      "    :param backend: \"numpy\", \"tensorflow\", \"jax\", \"pytorch\". defaults to None,\n",
      "        which gives the same behavior as ``tensornetwork.backend_contextmanager.get_default_backend()``.\n",
      "    :type backend: Optional[str], optional\n",
      "    :param set_global: Whether the object should be set as global.\n",
      "    :type set_global: bool\n",
      "    :return: The `tc.backend` object that with all registered universal functions.\n",
      "    :rtype: backend object\n",
      "\n"
     ]
    }
   ],
   "source": [
    "help(tc.set_backend)"
   ]
  },
  {
   "cell_type": "code",
   "execution_count": null,
   "id": "3cc9a3a4",
   "metadata": {},
   "outputs": [],
   "source": []
  }
 ],
 "metadata": {
  "kernelspec": {
   "display_name": "Python [conda env:.conda-py37] *",
   "language": "python",
   "name": "conda-env-.conda-py37-py"
  }
 },
 "nbformat": 4,
 "nbformat_minor": 5
}
